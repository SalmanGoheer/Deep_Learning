{
 "cells": [
  {
   "cell_type": "markdown",
   "metadata": {},
   "source": [
    "# Credit Card Fraud Detection::"
   ]
  },
  {
   "cell_type": "markdown",
   "metadata": {},
   "source": [
    "Download dataset from this link:\n",
    "\n",
    "https://www.kaggle.com/mlg-ulb/creditcardfraud"
   ]
  },
  {
   "cell_type": "markdown",
   "metadata": {},
   "source": [
    "# Description about dataset::"
   ]
  },
  {
   "cell_type": "markdown",
   "metadata": {},
   "source": [
    "The datasets contains transactions made by credit cards in September 2013 by european cardholders.\n",
    "This dataset presents transactions that occurred in two days, where we have 492 frauds out of 284,807 transactions. The dataset is highly unbalanced, the positive class (frauds) account for 0.172% of all transactions.\n",
    "\n",
    "It contains only numerical input variables which are the result of a PCA transformation. Unfortunately, due to confidentiality issues, we cannot provide the original features and more background information about the data. Features V1, V2, … V28 are the principal components obtained with PCA, the only features which have not been transformed with PCA are 'Time' and 'Amount'. Feature 'Time' contains the seconds elapsed between each transaction and the first transaction in the dataset. The feature 'Amount' is the transaction Amount, this feature can be used for example-dependant cost-senstive learning. \n",
    "\n",
    "\n",
    "### Feature 'Class' is the response variable and it takes value 1 in case of fraud and 0 otherwise."
   ]
  },
  {
   "cell_type": "markdown",
   "metadata": {},
   "source": [
    "# WORKFLOW :"
   ]
  },
  {
   "cell_type": "markdown",
   "metadata": {},
   "source": [
    "1.Load Data\n",
    "\n",
    "2.Check Missing Values ( If Exist ; Fill each record with mean of its feature )\n",
    "\n",
    "3.Standardized the Input Variables. \n",
    "\n",
    "4.Split into 50% Training(Samples,Labels) , 30% Test(Samples,Labels) and 20% Validation Data(Samples,Labels).\n",
    "\n",
    "5.Model : input Layer (No. of features ), 3 hidden layers including 10,8,6 unit & Output Layer with activation function relu/tanh (check by experiment).\n",
    "\n",
    "6.Compilation Step (Note : Its a Binary problem , select loss , metrics according to it)\n",
    "\n",
    "7.Train the Model with Epochs (100).\n",
    "\n",
    "8.If the model gets overfit tune your model by changing the units , No. of layers , epochs , add dropout layer or add Regularizer according to the need .\n",
    "\n",
    "9.Prediction should be > 92%\n",
    "10.Evaluation Step\n",
    "11Prediction\n"
   ]
  },
  {
   "cell_type": "markdown",
   "metadata": {},
   "source": [
    "# Task::"
   ]
  },
  {
   "cell_type": "markdown",
   "metadata": {},
   "source": [
    "## Identify fraudulent credit card transactions."
   ]
  },
  {
   "cell_type": "code",
   "execution_count": 2,
   "metadata": {},
   "outputs": [],
   "source": [
    "import numpy as np\n",
    "import pandas as pd \n",
    "import matplotlib.pyplot as plt\n",
    "from tensorflow.keras import models, layers, optimizers\n",
    "from sklearn.model_selection import train_test_split"
   ]
  },
  {
   "cell_type": "code",
   "execution_count": 3,
   "metadata": {},
   "outputs": [
    {
     "data": {
      "text/html": [
       "<div>\n",
       "<style scoped>\n",
       "    .dataframe tbody tr th:only-of-type {\n",
       "        vertical-align: middle;\n",
       "    }\n",
       "\n",
       "    .dataframe tbody tr th {\n",
       "        vertical-align: top;\n",
       "    }\n",
       "\n",
       "    .dataframe thead th {\n",
       "        text-align: right;\n",
       "    }\n",
       "</style>\n",
       "<table border=\"1\" class=\"dataframe\">\n",
       "  <thead>\n",
       "    <tr style=\"text-align: right;\">\n",
       "      <th></th>\n",
       "      <th>Time</th>\n",
       "      <th>V1</th>\n",
       "      <th>V2</th>\n",
       "      <th>V3</th>\n",
       "      <th>V4</th>\n",
       "      <th>V5</th>\n",
       "      <th>V6</th>\n",
       "      <th>V7</th>\n",
       "      <th>V8</th>\n",
       "      <th>V9</th>\n",
       "      <th>...</th>\n",
       "      <th>V21</th>\n",
       "      <th>V22</th>\n",
       "      <th>V23</th>\n",
       "      <th>V24</th>\n",
       "      <th>V25</th>\n",
       "      <th>V26</th>\n",
       "      <th>V27</th>\n",
       "      <th>V28</th>\n",
       "      <th>Amount</th>\n",
       "      <th>Class</th>\n",
       "    </tr>\n",
       "  </thead>\n",
       "  <tbody>\n",
       "    <tr>\n",
       "      <th>0</th>\n",
       "      <td>0.0</td>\n",
       "      <td>-1.359807</td>\n",
       "      <td>-0.072781</td>\n",
       "      <td>2.536347</td>\n",
       "      <td>1.378155</td>\n",
       "      <td>-0.338321</td>\n",
       "      <td>0.462388</td>\n",
       "      <td>0.239599</td>\n",
       "      <td>0.098698</td>\n",
       "      <td>0.363787</td>\n",
       "      <td>...</td>\n",
       "      <td>-0.018307</td>\n",
       "      <td>0.277838</td>\n",
       "      <td>-0.110474</td>\n",
       "      <td>0.066928</td>\n",
       "      <td>0.128539</td>\n",
       "      <td>-0.189115</td>\n",
       "      <td>0.133558</td>\n",
       "      <td>-0.021053</td>\n",
       "      <td>149.62</td>\n",
       "      <td>0</td>\n",
       "    </tr>\n",
       "    <tr>\n",
       "      <th>1</th>\n",
       "      <td>0.0</td>\n",
       "      <td>1.191857</td>\n",
       "      <td>0.266151</td>\n",
       "      <td>0.166480</td>\n",
       "      <td>0.448154</td>\n",
       "      <td>0.060018</td>\n",
       "      <td>-0.082361</td>\n",
       "      <td>-0.078803</td>\n",
       "      <td>0.085102</td>\n",
       "      <td>-0.255425</td>\n",
       "      <td>...</td>\n",
       "      <td>-0.225775</td>\n",
       "      <td>-0.638672</td>\n",
       "      <td>0.101288</td>\n",
       "      <td>-0.339846</td>\n",
       "      <td>0.167170</td>\n",
       "      <td>0.125895</td>\n",
       "      <td>-0.008983</td>\n",
       "      <td>0.014724</td>\n",
       "      <td>2.69</td>\n",
       "      <td>0</td>\n",
       "    </tr>\n",
       "    <tr>\n",
       "      <th>2</th>\n",
       "      <td>1.0</td>\n",
       "      <td>-1.358354</td>\n",
       "      <td>-1.340163</td>\n",
       "      <td>1.773209</td>\n",
       "      <td>0.379780</td>\n",
       "      <td>-0.503198</td>\n",
       "      <td>1.800499</td>\n",
       "      <td>0.791461</td>\n",
       "      <td>0.247676</td>\n",
       "      <td>-1.514654</td>\n",
       "      <td>...</td>\n",
       "      <td>0.247998</td>\n",
       "      <td>0.771679</td>\n",
       "      <td>0.909412</td>\n",
       "      <td>-0.689281</td>\n",
       "      <td>-0.327642</td>\n",
       "      <td>-0.139097</td>\n",
       "      <td>-0.055353</td>\n",
       "      <td>-0.059752</td>\n",
       "      <td>378.66</td>\n",
       "      <td>0</td>\n",
       "    </tr>\n",
       "    <tr>\n",
       "      <th>3</th>\n",
       "      <td>1.0</td>\n",
       "      <td>-0.966272</td>\n",
       "      <td>-0.185226</td>\n",
       "      <td>1.792993</td>\n",
       "      <td>-0.863291</td>\n",
       "      <td>-0.010309</td>\n",
       "      <td>1.247203</td>\n",
       "      <td>0.237609</td>\n",
       "      <td>0.377436</td>\n",
       "      <td>-1.387024</td>\n",
       "      <td>...</td>\n",
       "      <td>-0.108300</td>\n",
       "      <td>0.005274</td>\n",
       "      <td>-0.190321</td>\n",
       "      <td>-1.175575</td>\n",
       "      <td>0.647376</td>\n",
       "      <td>-0.221929</td>\n",
       "      <td>0.062723</td>\n",
       "      <td>0.061458</td>\n",
       "      <td>123.50</td>\n",
       "      <td>0</td>\n",
       "    </tr>\n",
       "    <tr>\n",
       "      <th>4</th>\n",
       "      <td>2.0</td>\n",
       "      <td>-1.158233</td>\n",
       "      <td>0.877737</td>\n",
       "      <td>1.548718</td>\n",
       "      <td>0.403034</td>\n",
       "      <td>-0.407193</td>\n",
       "      <td>0.095921</td>\n",
       "      <td>0.592941</td>\n",
       "      <td>-0.270533</td>\n",
       "      <td>0.817739</td>\n",
       "      <td>...</td>\n",
       "      <td>-0.009431</td>\n",
       "      <td>0.798278</td>\n",
       "      <td>-0.137458</td>\n",
       "      <td>0.141267</td>\n",
       "      <td>-0.206010</td>\n",
       "      <td>0.502292</td>\n",
       "      <td>0.219422</td>\n",
       "      <td>0.215153</td>\n",
       "      <td>69.99</td>\n",
       "      <td>0</td>\n",
       "    </tr>\n",
       "  </tbody>\n",
       "</table>\n",
       "<p>5 rows × 31 columns</p>\n",
       "</div>"
      ],
      "text/plain": [
       "   Time        V1        V2        V3        V4        V5        V6        V7  \\\n",
       "0   0.0 -1.359807 -0.072781  2.536347  1.378155 -0.338321  0.462388  0.239599   \n",
       "1   0.0  1.191857  0.266151  0.166480  0.448154  0.060018 -0.082361 -0.078803   \n",
       "2   1.0 -1.358354 -1.340163  1.773209  0.379780 -0.503198  1.800499  0.791461   \n",
       "3   1.0 -0.966272 -0.185226  1.792993 -0.863291 -0.010309  1.247203  0.237609   \n",
       "4   2.0 -1.158233  0.877737  1.548718  0.403034 -0.407193  0.095921  0.592941   \n",
       "\n",
       "         V8        V9  ...       V21       V22       V23       V24       V25  \\\n",
       "0  0.098698  0.363787  ... -0.018307  0.277838 -0.110474  0.066928  0.128539   \n",
       "1  0.085102 -0.255425  ... -0.225775 -0.638672  0.101288 -0.339846  0.167170   \n",
       "2  0.247676 -1.514654  ...  0.247998  0.771679  0.909412 -0.689281 -0.327642   \n",
       "3  0.377436 -1.387024  ... -0.108300  0.005274 -0.190321 -1.175575  0.647376   \n",
       "4 -0.270533  0.817739  ... -0.009431  0.798278 -0.137458  0.141267 -0.206010   \n",
       "\n",
       "        V26       V27       V28  Amount  Class  \n",
       "0 -0.189115  0.133558 -0.021053  149.62      0  \n",
       "1  0.125895 -0.008983  0.014724    2.69      0  \n",
       "2 -0.139097 -0.055353 -0.059752  378.66      0  \n",
       "3 -0.221929  0.062723  0.061458  123.50      0  \n",
       "4  0.502292  0.219422  0.215153   69.99      0  \n",
       "\n",
       "[5 rows x 31 columns]"
      ]
     },
     "execution_count": 3,
     "metadata": {},
     "output_type": "execute_result"
    }
   ],
   "source": [
    "df = pd.read_csv(\"../creditcard.csv\")\n",
    "df.head()"
   ]
  },
  {
   "cell_type": "code",
   "execution_count": 4,
   "metadata": {},
   "outputs": [
    {
     "data": {
      "text/plain": [
       "Time      0\n",
       "V1        0\n",
       "V2        0\n",
       "V3        0\n",
       "V4        0\n",
       "V5        0\n",
       "V6        0\n",
       "V7        0\n",
       "V8        0\n",
       "V9        0\n",
       "V10       0\n",
       "V11       0\n",
       "V12       0\n",
       "V13       0\n",
       "V14       0\n",
       "V15       0\n",
       "V16       0\n",
       "V17       0\n",
       "V18       0\n",
       "V19       0\n",
       "V20       0\n",
       "V21       0\n",
       "V22       0\n",
       "V23       0\n",
       "V24       0\n",
       "V25       0\n",
       "V26       0\n",
       "V27       0\n",
       "V28       0\n",
       "Amount    0\n",
       "Class     0\n",
       "dtype: int64"
      ]
     },
     "execution_count": 4,
     "metadata": {},
     "output_type": "execute_result"
    }
   ],
   "source": [
    "df.isnull().sum()"
   ]
  },
  {
   "cell_type": "code",
   "execution_count": 5,
   "metadata": {},
   "outputs": [
    {
     "data": {
      "text/plain": [
       "True"
      ]
     },
     "execution_count": 5,
     "metadata": {},
     "output_type": "execute_result"
    }
   ],
   "source": [
    "df.duplicated().any()"
   ]
  },
  {
   "cell_type": "code",
   "execution_count": 7,
   "metadata": {},
   "outputs": [],
   "source": [
    "df.drop_duplicates(inplace=True)"
   ]
  },
  {
   "cell_type": "code",
   "execution_count": 8,
   "metadata": {},
   "outputs": [],
   "source": [
    "data = df.iloc[:,:30]\n",
    "targets = df.iloc[:,-1] "
   ]
  },
  {
   "cell_type": "code",
   "execution_count": 9,
   "metadata": {},
   "outputs": [
    {
     "data": {
      "text/plain": [
       "(283726, 30)"
      ]
     },
     "execution_count": 9,
     "metadata": {},
     "output_type": "execute_result"
    }
   ],
   "source": [
    "data.shape"
   ]
  },
  {
   "cell_type": "code",
   "execution_count": 10,
   "metadata": {},
   "outputs": [
    {
     "data": {
      "text/plain": [
       "(283726,)"
      ]
     },
     "execution_count": 10,
     "metadata": {},
     "output_type": "execute_result"
    }
   ],
   "source": [
    "targets.shape"
   ]
  },
  {
   "cell_type": "code",
   "execution_count": 11,
   "metadata": {},
   "outputs": [],
   "source": [
    "x_train, x_test, y_train, y_test = train_test_split(data, targets, test_size=.30,     random_state=1)"
   ]
  },
  {
   "cell_type": "code",
   "execution_count": 12,
   "metadata": {},
   "outputs": [],
   "source": [
    "mean = x_train.mean(axis=0)\n",
    "x_train -= mean\n",
    "std = x_train.std(axis=0)\n",
    "x_train /= std\n",
    "x_test -= mean\n",
    "x_test /= std"
   ]
  },
  {
   "cell_type": "code",
   "execution_count": 13,
   "metadata": {},
   "outputs": [],
   "source": [
    "x_train= np.asarray(x_train).astype('float32')\n",
    "x_test= np.asarray(x_test).astype('float32')"
   ]
  },
  {
   "cell_type": "code",
   "execution_count": 14,
   "metadata": {},
   "outputs": [],
   "source": [
    "val_x=x_train[:100000]\n",
    "partial_x_train=x_train[100000:]\n",
    "val_y=y_train[:100000]\n",
    "partial_y_train=y_train[100000:]"
   ]
  },
  {
   "cell_type": "code",
   "execution_count": 15,
   "metadata": {},
   "outputs": [
    {
     "name": "stdout",
     "output_type": "stream",
     "text": [
      "WARNING:tensorflow:From C:\\Users\\Salman\\anaconda3\\lib\\site-packages\\tensorflow\\python\\ops\\init_ops.py:1251: calling VarianceScaling.__init__ (from tensorflow.python.ops.init_ops) with dtype is deprecated and will be removed in a future version.\n",
      "Instructions for updating:\n",
      "Call initializer instance with the dtype argument instead of passing it to the constructor\n",
      "WARNING:tensorflow:From C:\\Users\\Salman\\anaconda3\\lib\\site-packages\\tensorflow\\python\\ops\\nn_impl.py:180: add_dispatch_support.<locals>.wrapper (from tensorflow.python.ops.array_ops) is deprecated and will be removed in a future version.\n",
      "Instructions for updating:\n",
      "Use tf.where in 2.0, which has the same broadcast rule as np.where\n"
     ]
    }
   ],
   "source": [
    "model = models.Sequential()\n",
    "model.add(layers.Dense(10, activation='relu', input_shape=(x_train.shape[1],)))\n",
    "model.add(layers.Dense(8, activation='relu'))\n",
    "model.add(layers.Dense(6, activation='relu'))\n",
    "model.add(layers.Dense(1, activation='sigmoid'))\n",
    "model.compile(optimizer='adam', loss='binary_crossentropy', metrics=['accuracy'])"
   ]
  },
  {
   "cell_type": "code",
   "execution_count": 16,
   "metadata": {},
   "outputs": [
    {
     "name": "stdout",
     "output_type": "stream",
     "text": [
      "Model: \"sequential\"\n",
      "_________________________________________________________________\n",
      "Layer (type)                 Output Shape              Param #   \n",
      "=================================================================\n",
      "dense (Dense)                (None, 10)                310       \n",
      "_________________________________________________________________\n",
      "dense_1 (Dense)              (None, 8)                 88        \n",
      "_________________________________________________________________\n",
      "dense_2 (Dense)              (None, 6)                 54        \n",
      "_________________________________________________________________\n",
      "dense_3 (Dense)              (None, 1)                 7         \n",
      "=================================================================\n",
      "Total params: 459\n",
      "Trainable params: 459\n",
      "Non-trainable params: 0\n",
      "_________________________________________________________________\n"
     ]
    }
   ],
   "source": [
    "model.summary()"
   ]
  },
  {
   "cell_type": "code",
   "execution_count": 17,
   "metadata": {},
   "outputs": [
    {
     "name": "stdout",
     "output_type": "stream",
     "text": [
      "Train on 98608 samples, validate on 100000 samples\n",
      "Epoch 1/100\n",
      "98608/98608 [==============================] - 28s 287us/sample - loss: 0.0140 - acc: 0.9964 - val_loss: 0.0039 - val_acc: 0.9993\n",
      "Epoch 2/100\n",
      "98608/98608 [==============================] - 28s 288us/sample - loss: 0.0034 - acc: 0.9994 - val_loss: 0.0033 - val_acc: 0.9994\n",
      "Epoch 3/100\n",
      "98608/98608 [==============================] - 33s 339us/sample - loss: 0.0032 - acc: 0.9994 - val_loss: 0.0031 - val_acc: 0.9994\n",
      "Epoch 4/100\n",
      "98608/98608 [==============================] - 30s 303us/sample - loss: 0.0031 - acc: 0.9994 - val_loss: 0.0034 - val_acc: 0.9994\n",
      "Epoch 5/100\n",
      "98608/98608 [==============================] - 28s 287us/sample - loss: 0.0029 - acc: 0.9994 - val_loss: 0.0031 - val_acc: 0.9994\n",
      "Epoch 6/100\n",
      "98608/98608 [==============================] - 34s 341us/sample - loss: 0.0028 - acc: 0.9994 - val_loss: 0.0031 - val_acc: 0.9994\n",
      "Epoch 7/100\n",
      "98608/98608 [==============================] - 32s 323us/sample - loss: 0.0027 - acc: 0.9994 - val_loss: 0.0031 - val_acc: 0.9995\n",
      "Epoch 8/100\n",
      "98608/98608 [==============================] - 30s 301us/sample - loss: 0.0025 - acc: 0.9995 - val_loss: 0.0038 - val_acc: 0.9993\n",
      "Epoch 9/100\n",
      "98608/98608 [==============================] - 27s 270us/sample - loss: 0.0026 - acc: 0.9994 - val_loss: 0.0032 - val_acc: 0.9994\n",
      "Epoch 10/100\n",
      "98608/98608 [==============================] - 26s 264us/sample - loss: 0.0023 - acc: 0.9995 - val_loss: 0.0033 - val_acc: 0.9994\n",
      "Epoch 11/100\n",
      "98608/98608 [==============================] - 26s 266us/sample - loss: 0.0023 - acc: 0.9994 - val_loss: 0.0031 - val_acc: 0.9994\n",
      "Epoch 12/100\n",
      "98608/98608 [==============================] - 26s 266us/sample - loss: 0.0021 - acc: 0.9995 - val_loss: 0.0040 - val_acc: 0.9993\n",
      "Epoch 13/100\n",
      "98608/98608 [==============================] - 26s 268us/sample - loss: 0.0022 - acc: 0.9995 - val_loss: 0.0036 - val_acc: 0.9994\n",
      "Epoch 14/100\n",
      "98608/98608 [==============================] - 26s 268us/sample - loss: 0.0021 - acc: 0.9995 - val_loss: 0.0035 - val_acc: 0.9994\n",
      "Epoch 15/100\n",
      "98608/98608 [==============================] - 27s 270us/sample - loss: 0.0021 - acc: 0.9995 - val_loss: 0.0037 - val_acc: 0.9994\n",
      "Epoch 16/100\n",
      "98608/98608 [==============================] - 26s 266us/sample - loss: 0.0019 - acc: 0.9995 - val_loss: 0.0037 - val_acc: 0.9994\n",
      "Epoch 17/100\n",
      "98608/98608 [==============================] - 26s 265us/sample - loss: 0.0019 - acc: 0.9995 - val_loss: 0.0043 - val_acc: 0.9993\n",
      "Epoch 18/100\n",
      "98608/98608 [==============================] - 26s 267us/sample - loss: 0.0019 - acc: 0.9995 - val_loss: 0.0040 - val_acc: 0.9993\n",
      "Epoch 19/100\n",
      "98608/98608 [==============================] - 26s 267us/sample - loss: 0.0019 - acc: 0.9996 - val_loss: 0.0049 - val_acc: 0.9994\n",
      "Epoch 20/100\n",
      "98608/98608 [==============================] - 26s 263us/sample - loss: 0.0020 - acc: 0.9995 - val_loss: 0.0051 - val_acc: 0.9994\n",
      "Epoch 21/100\n",
      "98608/98608 [==============================] - 26s 266us/sample - loss: 0.0019 - acc: 0.9995 - val_loss: 0.0043 - val_acc: 0.9994\n",
      "Epoch 22/100\n",
      "98608/98608 [==============================] - 26s 261us/sample - loss: 0.0017 - acc: 0.9995 - val_loss: 0.0049 - val_acc: 0.9993\n",
      "Epoch 23/100\n",
      "98608/98608 [==============================] - 25s 258us/sample - loss: 0.0018 - acc: 0.9996 - val_loss: 0.0048 - val_acc: 0.9993\n",
      "Epoch 24/100\n",
      "98608/98608 [==============================] - 25s 256us/sample - loss: 0.0018 - acc: 0.9995 - val_loss: 0.0067 - val_acc: 0.9993\n",
      "Epoch 25/100\n",
      "98608/98608 [==============================] - 26s 259us/sample - loss: 0.0020 - acc: 0.9995 - val_loss: 0.0060 - val_acc: 0.9993\n",
      "Epoch 26/100\n",
      "98608/98608 [==============================] - 26s 259us/sample - loss: 0.0017 - acc: 0.9995 - val_loss: 0.0060 - val_acc: 0.9992\n",
      "Epoch 27/100\n",
      "98608/98608 [==============================] - 26s 262us/sample - loss: 0.0018 - acc: 0.9995 - val_loss: 0.0052 - val_acc: 0.9993\n",
      "Epoch 28/100\n",
      "98608/98608 [==============================] - 26s 260us/sample - loss: 0.0015 - acc: 0.9996 - val_loss: 0.0054 - val_acc: 0.9993\n",
      "Epoch 29/100\n",
      "98608/98608 [==============================] - 26s 261us/sample - loss: 0.0016 - acc: 0.9995 - val_loss: 0.0060 - val_acc: 0.9992\n",
      "Epoch 30/100\n",
      "98608/98608 [==============================] - 26s 264us/sample - loss: 0.0017 - acc: 0.9995 - val_loss: 0.0059 - val_acc: 0.9993\n",
      "Epoch 31/100\n",
      "98608/98608 [==============================] - 28s 285us/sample - loss: 0.0018 - acc: 0.9996 - val_loss: 0.0059 - val_acc: 0.9992\n",
      "Epoch 32/100\n",
      "98608/98608 [==============================] - 33s 332us/sample - loss: 0.0016 - acc: 0.9996 - val_loss: 0.0065 - val_acc: 0.9994\n",
      "Epoch 33/100\n",
      "98608/98608 [==============================] - 32s 326us/sample - loss: 0.0018 - acc: 0.9995 - val_loss: 0.0050 - val_acc: 0.9993\n",
      "Epoch 34/100\n",
      "98608/98608 [==============================] - 33s 337us/sample - loss: 0.0016 - acc: 0.9996 - val_loss: 0.0063 - val_acc: 0.9994\n",
      "Epoch 35/100\n",
      "98608/98608 [==============================] - 35s 359us/sample - loss: 0.0016 - acc: 0.9995 - val_loss: 0.0067 - val_acc: 0.9993\n",
      "Epoch 36/100\n",
      "98608/98608 [==============================] - 34s 350us/sample - loss: 0.0016 - acc: 0.9996 - val_loss: 0.0059 - val_acc: 0.9993\n",
      "Epoch 37/100\n",
      "98608/98608 [==============================] - 36s 361us/sample - loss: 0.0015 - acc: 0.9995 - val_loss: 0.0062 - val_acc: 0.9994\n",
      "Epoch 38/100\n",
      "98608/98608 [==============================] - 35s 358us/sample - loss: 0.0015 - acc: 0.9996 - val_loss: 0.0072 - val_acc: 0.9993\n",
      "Epoch 39/100\n",
      "98608/98608 [==============================] - 36s 364us/sample - loss: 0.0016 - acc: 0.9996 - val_loss: 0.0068 - val_acc: 0.9993\n",
      "Epoch 40/100\n",
      "98608/98608 [==============================] - 38s 385us/sample - loss: 0.0013 - acc: 0.9996 - val_loss: 0.0088 - val_acc: 0.9994\n",
      "Epoch 41/100\n",
      "98608/98608 [==============================] - 39s 399us/sample - loss: 0.0015 - acc: 0.9995 - val_loss: 0.0094 - val_acc: 0.9994\n",
      "Epoch 42/100\n",
      "98608/98608 [==============================] - 36s 367us/sample - loss: 0.0016 - acc: 0.9995 - val_loss: 0.0090 - val_acc: 0.9993\n",
      "Epoch 43/100\n",
      "98608/98608 [==============================] - 33s 339us/sample - loss: 0.0014 - acc: 0.9996 - val_loss: 0.0095 - val_acc: 0.9992\n",
      "Epoch 44/100\n",
      "98608/98608 [==============================] - 35s 351us/sample - loss: 0.0014 - acc: 0.9995 - val_loss: 0.0095 - val_acc: 0.9993\n",
      "Epoch 45/100\n",
      "98608/98608 [==============================] - 37s 379us/sample - loss: 0.0016 - acc: 0.9996 - val_loss: 0.0088 - val_acc: 0.9994\n",
      "Epoch 46/100\n",
      "98608/98608 [==============================] - 37s 373us/sample - loss: 0.0013 - acc: 0.9996 - val_loss: 0.0079 - val_acc: 0.9992\n",
      "Epoch 47/100\n",
      "98608/98608 [==============================] - 35s 355us/sample - loss: 0.0015 - acc: 0.9996 - val_loss: 0.0086 - val_acc: 0.9993\n",
      "Epoch 48/100\n",
      "98608/98608 [==============================] - 35s 354us/sample - loss: 0.0015 - acc: 0.9995 - val_loss: 0.0072 - val_acc: 0.9993\n",
      "Epoch 49/100\n",
      "98608/98608 [==============================] - 33s 336us/sample - loss: 0.0016 - acc: 0.9996 - val_loss: 0.0068 - val_acc: 0.9994\n",
      "Epoch 50/100\n",
      "98608/98608 [==============================] - 41s 412us/sample - loss: 0.0012 - acc: 0.9996 - val_loss: 0.0079 - val_acc: 0.9993\n",
      "Epoch 51/100\n",
      "98608/98608 [==============================] - 32s 320us/sample - loss: 0.0012 - acc: 0.9996 - val_loss: 0.0083 - val_acc: 0.9993\n",
      "Epoch 52/100\n",
      "98608/98608 [==============================] - 45s 452us/sample - loss: 0.0013 - acc: 0.9996 - val_loss: 0.0083 - val_acc: 0.9993: 0.99 - ETA: 1s - l\n",
      "Epoch 53/100\n",
      "98608/98608 [==============================] - 34s 340us/sample - loss: 0.0013 - acc: 0.9995 - val_loss: 0.0071 - val_acc: 0.9993\n",
      "Epoch 54/100\n",
      "98608/98608 [==============================] - 28s 287us/sample - loss: 0.0012 - acc: 0.9996 - val_loss: 0.0075 - val_acc: 0.9992\n",
      "Epoch 55/100\n",
      "98608/98608 [==============================] - 31s 312us/sample - loss: 0.0012 - acc: 0.9996 - val_loss: 0.0097 - val_acc: 0.9992\n",
      "Epoch 56/100\n",
      "98608/98608 [==============================] - 34s 347us/sample - loss: 0.0012 - acc: 0.9996 - val_loss: 0.0105 - val_acc: 0.9993\n",
      "Epoch 57/100\n"
     ]
    },
    {
     "name": "stdout",
     "output_type": "stream",
     "text": [
      "98608/98608 [==============================] - 28s 289us/sample - loss: 0.0015 - acc: 0.9995 - val_loss: 0.0098 - val_acc: 0.9993\n",
      "Epoch 58/100\n",
      "98608/98608 [==============================] - 28s 280us/sample - loss: 0.0012 - acc: 0.9996 - val_loss: 0.0094 - val_acc: 0.9993\n",
      "Epoch 59/100\n",
      "98608/98608 [==============================] - 32s 320us/sample - loss: 0.0011 - acc: 0.9996 - val_loss: 0.0105 - val_acc: 0.9992\n",
      "Epoch 60/100\n",
      "98608/98608 [==============================] - 28s 289us/sample - loss: 0.0012 - acc: 0.9996 - val_loss: 0.0119 - val_acc: 0.9992\n",
      "Epoch 61/100\n",
      "98608/98608 [==============================] - 32s 321us/sample - loss: 0.0013 - acc: 0.9996 - val_loss: 0.0102 - val_acc: 0.9993\n",
      "Epoch 62/100\n",
      "98608/98608 [==============================] - 31s 318us/sample - loss: 0.0014 - acc: 0.9995 - val_loss: 0.0104 - val_acc: 0.9992\n",
      "Epoch 63/100\n",
      "98608/98608 [==============================] - 33s 335us/sample - loss: 0.0013 - acc: 0.9996 - val_loss: 0.0118 - val_acc: 0.9991\n",
      "Epoch 64/100\n",
      "98608/98608 [==============================] - 30s 302us/sample - loss: 0.0016 - acc: 0.9996 - val_loss: 0.0091 - val_acc: 0.9992\n",
      "Epoch 65/100\n",
      "98608/98608 [==============================] - 38s 383us/sample - loss: 9.9906e-04 - acc: 0.9997 - val_loss: 0.0094 - val_acc: 0.9989\n",
      "Epoch 66/100\n",
      "98608/98608 [==============================] - 34s 343us/sample - loss: 0.0013 - acc: 0.9995 - val_loss: 0.0095 - val_acc: 0.9991\n",
      "Epoch 67/100\n",
      "98608/98608 [==============================] - 36s 363us/sample - loss: 0.0012 - acc: 0.9997 - val_loss: 0.0118 - val_acc: 0.9991\n",
      "Epoch 68/100\n",
      "98608/98608 [==============================] - 38s 383us/sample - loss: 0.0013 - acc: 0.9997 - val_loss: 0.0105 - val_acc: 0.9991\n",
      "Epoch 69/100\n",
      "98608/98608 [==============================] - 32s 320us/sample - loss: 0.0012 - acc: 0.9996 - val_loss: 0.0121 - val_acc: 0.9991\n",
      "Epoch 70/100\n",
      "98608/98608 [==============================] - 33s 336us/sample - loss: 0.0014 - acc: 0.9996 - val_loss: 0.0102 - val_acc: 0.9992\n",
      "Epoch 71/100\n",
      "98608/98608 [==============================] - 29s 296us/sample - loss: 0.0011 - acc: 0.9996 - val_loss: 0.0124 - val_acc: 0.9992\n",
      "Epoch 72/100\n",
      "98608/98608 [==============================] - 34s 346us/sample - loss: 9.7738e-04 - acc: 0.9996 - val_loss: 0.0148 - val_acc: 0.9992\n",
      "Epoch 73/100\n",
      "98608/98608 [==============================] - 28s 287us/sample - loss: 0.0012 - acc: 0.9997 - val_loss: 0.0152 - val_acc: 0.9993\n",
      "Epoch 74/100\n",
      "98608/98608 [==============================] - 30s 306us/sample - loss: 0.0011 - acc: 0.9997 - val_loss: 0.0139 - val_acc: 0.9991\n",
      "Epoch 75/100\n",
      "98608/98608 [==============================] - 30s 308us/sample - loss: 0.0010 - acc: 0.9997 - val_loss: 0.0144 - val_acc: 0.9991\n",
      "Epoch 76/100\n",
      "98608/98608 [==============================] - 32s 324us/sample - loss: 9.5230e-04 - acc: 0.9997 - val_loss: 0.0156 - val_acc: 0.9992\n",
      "Epoch 77/100\n",
      "98608/98608 [==============================] - 34s 347us/sample - loss: 0.0011 - acc: 0.9996 - val_loss: 0.0126 - val_acc: 0.9990\n",
      "Epoch 78/100\n",
      "98608/98608 [==============================] - 34s 348us/sample - loss: 0.0012 - acc: 0.9996 - val_loss: 0.0110 - val_acc: 0.9992\n",
      "Epoch 79/100\n",
      "98608/98608 [==============================] - 29s 292us/sample - loss: 9.1706e-04 - acc: 0.9997 - val_loss: 0.0123 - val_acc: 0.9990\n",
      "Epoch 80/100\n",
      "98608/98608 [==============================] - 30s 304us/sample - loss: 0.0011 - acc: 0.9997 - val_loss: 0.0122 - val_acc: 0.9989\n",
      "Epoch 81/100\n",
      "98608/98608 [==============================] - 28s 286us/sample - loss: 9.6974e-04 - acc: 0.9997 - val_loss: 0.0128 - val_acc: 0.9991\n",
      "Epoch 82/100\n",
      "98608/98608 [==============================] - 29s 294us/sample - loss: 0.0013 - acc: 0.9997 - val_loss: 0.0124 - val_acc: 0.9991\n",
      "Epoch 83/100\n",
      "98608/98608 [==============================] - 21s 210us/sample - loss: 0.0011 - acc: 0.9997 - val_loss: 0.0125 - val_acc: 0.9992\n",
      "Epoch 84/100\n",
      "98608/98608 [==============================] - 19s 194us/sample - loss: 0.0010 - acc: 0.9997 - val_loss: 0.0136 - val_acc: 0.9991\n",
      "Epoch 85/100\n",
      "98608/98608 [==============================] - 20s 199us/sample - loss: 0.0011 - acc: 0.9996 - val_loss: 0.0174 - val_acc: 0.9992\n",
      "Epoch 86/100\n",
      "98608/98608 [==============================] - 20s 199us/sample - loss: 0.0011 - acc: 0.9996 - val_loss: 0.0130 - val_acc: 0.9990\n",
      "Epoch 87/100\n",
      "98608/98608 [==============================] - 20s 205us/sample - loss: 9.9709e-04 - acc: 0.9996 - val_loss: 0.0136 - val_acc: 0.9992\n",
      "Epoch 88/100\n",
      "98608/98608 [==============================] - 21s 212us/sample - loss: 0.0011 - acc: 0.9997 - val_loss: 0.0118 - val_acc: 0.9991\n",
      "Epoch 89/100\n",
      "98608/98608 [==============================] - 20s 205us/sample - loss: 0.0011 - acc: 0.9996 - val_loss: 0.0160 - val_acc: 0.9991\n",
      "Epoch 90/100\n",
      "98608/98608 [==============================] - 20s 198us/sample - loss: 0.0012 - acc: 0.9996 - val_loss: 0.0110 - val_acc: 0.9989\n",
      "Epoch 91/100\n",
      "98608/98608 [==============================] - 21s 217us/sample - loss: 8.8187e-04 - acc: 0.9997 - val_loss: 0.0140 - val_acc: 0.9992\n",
      "Epoch 92/100\n",
      "98608/98608 [==============================] - 20s 206us/sample - loss: 9.7245e-04 - acc: 0.9997 - val_loss: 0.0146 - val_acc: 0.9991\n",
      "Epoch 93/100\n",
      "98608/98608 [==============================] - 22s 228us/sample - loss: 9.3786e-04 - acc: 0.9997 - val_loss: 0.0168 - val_acc: 0.9993\n",
      "Epoch 94/100\n",
      "98608/98608 [==============================] - 19s 193us/sample - loss: 0.0013 - acc: 0.9996 - val_loss: 0.0117 - val_acc: 0.9991\n",
      "Epoch 95/100\n",
      "98608/98608 [==============================] - 22s 220us/sample - loss: 9.1589e-04 - acc: 0.9997 - val_loss: 0.0156 - val_acc: 0.9993\n",
      "Epoch 96/100\n",
      "98608/98608 [==============================] - 21s 211us/sample - loss: 9.7114e-04 - acc: 0.9997 - val_loss: 0.0147 - val_acc: 0.9992\n",
      "Epoch 97/100\n",
      "98608/98608 [==============================] - 19s 193us/sample - loss: 9.5756e-04 - acc: 0.9997 - val_loss: 0.0139 - val_acc: 0.9992\n",
      "Epoch 98/100\n",
      "98608/98608 [==============================] - 20s 207us/sample - loss: 9.3663e-04 - acc: 0.9997 - val_loss: 0.0151 - val_acc: 0.9991\n",
      "Epoch 99/100\n",
      "98608/98608 [==============================] - 19s 189us/sample - loss: 8.0156e-04 - acc: 0.9997 - val_loss: 0.0221 - val_acc: 0.9992\n",
      "Epoch 100/100\n",
      "98608/98608 [==============================] - 20s 198us/sample - loss: 0.0012 - acc: 0.9997 - val_loss: 0.0181 - val_acc: 0.9992\n"
     ]
    }
   ],
   "source": [
    "history = model.fit(partial_x_train, partial_y_train,epochs=100, batch_size=10, verbose=1,validation_data=(val_x,val_y))"
   ]
  },
  {
   "cell_type": "code",
   "execution_count": 20,
   "metadata": {},
   "outputs": [
    {
     "data": {
      "image/png": "[encoded data removed]",
      "text/plain": [
       "<Figure size 432x288 with 1 Axes>"
      ]
     },
     "metadata": {
      "needs_background": "light"
     },
     "output_type": "display_data"
    }
   ],
   "source": [
    "loss = history.history['loss']\n",
    "val_loss = history.history['val_loss']\n",
    "epochs = range(1, len(loss) + 1)\n",
    "plt.plot(epochs, loss,\"go\",label='Training loss')\n",
    "plt.plot(epochs, val_loss, 'r', label='Validation loss')\n",
    "plt.title('Training and validation loss')\n",
    "plt.xlabel('Epochs')\n",
    "plt.ylabel('Loss')\n",
    "plt.legend()\n",
    "plt.grid()\n",
    "plt.show()"
   ]
  },
  {
   "cell_type": "code",
   "execution_count": 21,
   "metadata": {},
   "outputs": [
    {
     "name": "stdout",
     "output_type": "stream",
     "text": [
      "85118/85118 [==============================] - 2s 19us/sample - loss: 0.0163 - acc: 0.9992\n"
     ]
    },
    {
     "data": {
      "text/plain": [
       "[0.01632861705777827, 0.9991894]"
      ]
     },
     "execution_count": 21,
     "metadata": {},
     "output_type": "execute_result"
    }
   ],
   "source": [
    "model.evaluate(x_test, y_test)"
   ]
  },
  {
   "cell_type": "code",
   "execution_count": 22,
   "metadata": {},
   "outputs": [
    {
     "data": {
      "text/plain": [
       "array([[0.],\n",
       "       [0.],\n",
       "       [0.],\n",
       "       ...,\n",
       "       [0.],\n",
       "       [0.],\n",
       "       [0.]], dtype=float32)"
      ]
     },
     "execution_count": 22,
     "metadata": {},
     "output_type": "execute_result"
    }
   ],
   "source": [
    "pred = model.predict(x_test)\n",
    "pred"
   ]
  },
  {
   "cell_type": "code",
   "execution_count": null,
   "metadata": {},
   "outputs": [],
   "source": []
  },
  {
   "cell_type": "code",
   "execution_count": null,
   "metadata": {},
   "outputs": [],
   "source": []
  }
 ],
 "metadata": {
  "kernelspec": {
   "display_name": "Python 3",
   "language": "python",
   "name": "python3"
  },
  "language_info": {
   "codemirror_mode": {
    "name": "ipython",
    "version": 3
   },
   "file_extension": ".py",
   "mimetype": "text/x-python",
   "name": "python",
   "nbconvert_exporter": "python",
   "pygments_lexer": "ipython3",
   "version": "3.7.6"
  }
 },
 "nbformat": 4,
 "nbformat_minor": 2
}
